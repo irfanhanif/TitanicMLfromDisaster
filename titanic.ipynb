{
 "cells": [
  {
   "cell_type": "markdown",
   "metadata": {},
   "source": [
    "# Titanic : Machine Learning from Disaster\n",
    "Implementation using **some_fancy_feature_selection_here** feature selection and **some_fancy_classifier_here** classifier"
   ]
  },
  {
   "cell_type": "code",
   "execution_count": 1,
   "metadata": {},
   "outputs": [],
   "source": [
    "import pandas as pd\n",
    "import numpy as np\n",
    "import matplotlib.pyplot as plt\n",
    "\n",
    "from sklearn.model_selection import train_test_split, KFold\n",
    "from sklearn.ensemble import RandomForestClassifier\n",
    "from sklearn.decomposition import PCA"
   ]
  },
  {
   "cell_type": "code",
   "execution_count": 2,
   "metadata": {
    "scrolled": false
   },
   "outputs": [],
   "source": [
    "data_path = \"data/\"\n",
    "data_train = pd.read_csv(data_path + \"train.csv\", delimiter=',')\n",
    "\n",
    "cls = data_train[\"Survived\"].values"
   ]
  },
  {
   "cell_type": "code",
   "execution_count": 3,
   "metadata": {},
   "outputs": [],
   "source": [
    "data_train[\"Age\"] = data_train[\"Age\"].fillna(data_train[\"Age\"].mean())\n",
    "data_train[\"Name\"] = pd.factorize(map(lambda x: x.split(' ')[1], data_train[\"Name\"]))[0]\n",
    "data_train[\"Sex\"] = pd.factorize(data_train[\"Sex\"])[0]\n",
    "data_train[\"Cabin\"] = map(lambda x: x+1, pd.factorize(data_train[\"Cabin\"])[0])\n",
    "data_train[\"Embarked\"] = pd.factorize(data_train[\"Embarked\"])[0]\n",
    "\n",
    "data_train = data_train.drop([\"PassengerId\" ,\"Survived\", \"Pclass\", \"Cabin\", \"Ticket\", \"Embarked\", \"Parch\", \"SibSp\"], axis=1)\n",
    "\n",
    "ftr = data_train.values"
   ]
  },
  {
   "cell_type": "code",
   "execution_count": null,
   "metadata": {},
   "outputs": [],
   "source": [
    "def normFeature(x):\n",
    "    x /= np.linalg.norm(x)\n",
    "    x = x.tolist()\n",
    "    return x\n",
    "ftr = map(lambda x: normFeature(x), ftr)\n",
    "ftr = np.array(ftr)"
   ]
  },
  {
   "cell_type": "code",
   "execution_count": 4,
   "metadata": {
    "scrolled": true
   },
   "outputs": [
    {
     "data": {
      "image/png": "[encoded data removed]",
      "text/plain": [
       "<matplotlib.figure.Figure at 0x7fbe23a35cd0>"
      ]
     },
     "metadata": {},
     "output_type": "display_data"
    }
   ],
   "source": [
    "pca = PCA(n_components=2)\n",
    "ftr_for_plot = pca.fit_transform(ftr)\n",
    "\n",
    "for i in range(len(ftr)):\n",
    "    line = plt.plot(ftr_for_plot[i][0], ftr_for_plot[i][1], \"ro\")\n",
    "    if cls[i] == 0:\n",
    "        plt.setp(line, color=\"r\", linewidth=2.0)\n",
    "    else:\n",
    "        plt.setp(line, color=\"b\", linewidth=2.0)"
   ]
  },
  {
   "cell_type": "code",
   "execution_count": null,
   "metadata": {
    "scrolled": false
   },
   "outputs": [],
   "source": [
    "# x_train, x_test, y_train, y_test = train_test_split(ftr, cls, test_size=0.3)\n",
    "from sklearn.svm import SVC\n",
    "accuracy = []\n",
    "kfold = KFold(n_splits=10)\n",
    "for train_index, test_index in kfold.split(ftr):\n",
    "    x_train, x_test = ftr[train_index], ftr[test_index]\n",
    "    y_train, y_test = cls[train_index], cls[test_index]\n",
    "\n",
    "#     clf = RandomForestClassifier(n_estimators=1000, oob_score=True).fit(x_train, y_train)\n",
    "    clf = SVC(kernel=\"poly\").fit(x_train, y_train)\n",
    "    acc = clf.score(x_test, y_test)\n",
    "    print acc\n",
    "    accuracy.append(acc)"
   ]
  },
  {
   "cell_type": "code",
   "execution_count": 12,
   "metadata": {},
   "outputs": [
    {
     "name": "stdout",
     "output_type": "stream",
     "text": [
      "Average accuracy: 0.702596754057\n"
     ]
    }
   ],
   "source": [
    "print \"Average accuracy: \" + str(np.mean(accuracy))"
   ]
  },
  {
   "cell_type": "code",
   "execution_count": 10,
   "metadata": {
    "scrolled": true
   },
   "outputs": [
    {
     "ename": "AttributeError",
     "evalue": "'SVC' object has no attribute 'feature_importances_'",
     "output_type": "error",
     "traceback": [
      "\u001b[0;31m---------------------------------------------------------------------------\u001b[0m",
      "\u001b[0;31mAttributeError\u001b[0m                            Traceback (most recent call last)",
      "\u001b[0;32m<ipython-input-10-05beb2a34a49>\u001b[0m in \u001b[0;36m<module>\u001b[0;34m()\u001b[0m\n\u001b[0;32m----> 1\u001b[0;31m \u001b[0;32mprint\u001b[0m \u001b[0mclf\u001b[0m\u001b[0;34m.\u001b[0m\u001b[0mfeature_importances_\u001b[0m\u001b[0;34m\u001b[0m\u001b[0m\n\u001b[0m",
      "\u001b[0;31mAttributeError\u001b[0m: 'SVC' object has no attribute 'feature_importances_'"
     ]
    }
   ],
   "source": [
    "print clf.feature_importances_"
   ]
  },
  {
   "cell_type": "code",
   "execution_count": null,
   "metadata": {},
   "outputs": [],
   "source": [
    "data_train"
   ]
  }
 ],
 "metadata": {
  "kernelspec": {
   "display_name": "Python 2",
   "language": "python",
   "name": "python2"
  },
  "language_info": {
   "codemirror_mode": {
    "name": "ipython",
    "version": 2
   },
   "file_extension": ".py",
   "mimetype": "text/x-python",
   "name": "python",
   "nbconvert_exporter": "python",
   "pygments_lexer": "ipython2",
   "version": "2.7.12"
  }
 },
 "nbformat": 4,
 "nbformat_minor": 2
}
