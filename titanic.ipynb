{
 "cells": [
  {
   "cell_type": "markdown",
   "metadata": {},
   "source": [
    "# Titanic : Machine Learning from Disaster\n",
    "Implementation using **some_fancy_feature_selection_here** feature selection and **some_fancy_classifier_here** classifier"
   ]
  },
  {
   "cell_type": "code",
   "execution_count": 1,
   "metadata": {},
   "outputs": [],
   "source": [
    "import pandas as pd\n",
    "import numpy as np\n",
    "import matplotlib.pyplot as plt\n",
    "\n",
    "from sklearn.model_selection import train_test_split, KFold\n",
    "from sklearn.ensemble import RandomForestClassifier\n",
    "from sklearn.decomposition import PCA"
   ]
  },
  {
   "cell_type": "code",
   "execution_count": 2,
   "metadata": {
    "scrolled": false
   },
   "outputs": [],
   "source": [
    "data_path = \"data/\"\n",
    "data_train = pd.read_csv(data_path + \"train.csv\", delimiter=',')\n",
    "\n",
    "cls = data_train[\"Survived\"].values"
   ]
  },
  {
   "cell_type": "code",
   "execution_count": 3,
   "metadata": {
    "scrolled": true
   },
   "outputs": [
    {
     "data": {
      "text/html": [
       "<div>\n",
       "<style scoped>\n",
       "    .dataframe tbody tr th:only-of-type {\n",
       "        vertical-align: middle;\n",
       "    }\n",
       "\n",
       "    .dataframe tbody tr th {\n",
       "        vertical-align: top;\n",
       "    }\n",
       "\n",
       "    .dataframe thead th {\n",
       "        text-align: right;\n",
       "    }\n",
       "</style>\n",
       "<table border=\"1\" class=\"dataframe\">\n",
       "  <thead>\n",
       "    <tr style=\"text-align: right;\">\n",
       "      <th></th>\n",
       "      <th>PassengerId</th>\n",
       "      <th>Survived</th>\n",
       "      <th>Pclass</th>\n",
       "      <th>Name</th>\n",
       "      <th>Sex</th>\n",
       "      <th>Age</th>\n",
       "      <th>SibSp</th>\n",
       "      <th>Parch</th>\n",
       "      <th>Ticket</th>\n",
       "      <th>Fare</th>\n",
       "      <th>Cabin</th>\n",
       "      <th>Embarked</th>\n",
       "    </tr>\n",
       "  </thead>\n",
       "  <tbody>\n",
       "    <tr>\n",
       "      <th>0</th>\n",
       "      <td>1</td>\n",
       "      <td>0</td>\n",
       "      <td>3</td>\n",
       "      <td>Braund, Mr. Owen Harris</td>\n",
       "      <td>male</td>\n",
       "      <td>22.0</td>\n",
       "      <td>1</td>\n",
       "      <td>0</td>\n",
       "      <td>A/5 21171</td>\n",
       "      <td>7.2500</td>\n",
       "      <td>NaN</td>\n",
       "      <td>S</td>\n",
       "    </tr>\n",
       "    <tr>\n",
       "      <th>1</th>\n",
       "      <td>2</td>\n",
       "      <td>1</td>\n",
       "      <td>1</td>\n",
       "      <td>Cumings, Mrs. John Bradley (Florence Briggs Th...</td>\n",
       "      <td>female</td>\n",
       "      <td>38.0</td>\n",
       "      <td>1</td>\n",
       "      <td>0</td>\n",
       "      <td>PC 17599</td>\n",
       "      <td>71.2833</td>\n",
       "      <td>C85</td>\n",
       "      <td>C</td>\n",
       "    </tr>\n",
       "    <tr>\n",
       "      <th>2</th>\n",
       "      <td>3</td>\n",
       "      <td>1</td>\n",
       "      <td>3</td>\n",
       "      <td>Heikkinen, Miss. Laina</td>\n",
       "      <td>female</td>\n",
       "      <td>26.0</td>\n",
       "      <td>0</td>\n",
       "      <td>0</td>\n",
       "      <td>STON/O2. 3101282</td>\n",
       "      <td>7.9250</td>\n",
       "      <td>NaN</td>\n",
       "      <td>S</td>\n",
       "    </tr>\n",
       "    <tr>\n",
       "      <th>3</th>\n",
       "      <td>4</td>\n",
       "      <td>1</td>\n",
       "      <td>1</td>\n",
       "      <td>Futrelle, Mrs. Jacques Heath (Lily May Peel)</td>\n",
       "      <td>female</td>\n",
       "      <td>35.0</td>\n",
       "      <td>1</td>\n",
       "      <td>0</td>\n",
       "      <td>113803</td>\n",
       "      <td>53.1000</td>\n",
       "      <td>C123</td>\n",
       "      <td>S</td>\n",
       "    </tr>\n",
       "    <tr>\n",
       "      <th>4</th>\n",
       "      <td>5</td>\n",
       "      <td>0</td>\n",
       "      <td>3</td>\n",
       "      <td>Allen, Mr. William Henry</td>\n",
       "      <td>male</td>\n",
       "      <td>35.0</td>\n",
       "      <td>0</td>\n",
       "      <td>0</td>\n",
       "      <td>373450</td>\n",
       "      <td>8.0500</td>\n",
       "      <td>NaN</td>\n",
       "      <td>S</td>\n",
       "    </tr>\n",
       "  </tbody>\n",
       "</table>\n",
       "</div>"
      ],
      "text/plain": [
       "   PassengerId  Survived  Pclass  \\\n",
       "0            1         0       3   \n",
       "1            2         1       1   \n",
       "2            3         1       3   \n",
       "3            4         1       1   \n",
       "4            5         0       3   \n",
       "\n",
       "                                                Name     Sex   Age  SibSp  \\\n",
       "0                            Braund, Mr. Owen Harris    male  22.0      1   \n",
       "1  Cumings, Mrs. John Bradley (Florence Briggs Th...  female  38.0      1   \n",
       "2                             Heikkinen, Miss. Laina  female  26.0      0   \n",
       "3       Futrelle, Mrs. Jacques Heath (Lily May Peel)  female  35.0      1   \n",
       "4                           Allen, Mr. William Henry    male  35.0      0   \n",
       "\n",
       "   Parch            Ticket     Fare Cabin Embarked  \n",
       "0      0         A/5 21171   7.2500   NaN        S  \n",
       "1      0          PC 17599  71.2833   C85        C  \n",
       "2      0  STON/O2. 3101282   7.9250   NaN        S  \n",
       "3      0            113803  53.1000  C123        S  \n",
       "4      0            373450   8.0500   NaN        S  "
      ]
     },
     "execution_count": 3,
     "metadata": {},
     "output_type": "execute_result"
    }
   ],
   "source": [
    "data_train.head()"
   ]
  },
  {
   "cell_type": "code",
   "execution_count": 20,
   "metadata": {},
   "outputs": [
    {
     "name": "stdout",
     "output_type": "stream",
     "text": [
      "<class 'pandas.core.frame.DataFrame'>\n",
      "RangeIndex: 891 entries, 0 to 890\n",
      "Data columns (total 3 columns):\n",
      "1    891 non-null uint8\n",
      "2    891 non-null uint8\n",
      "3    891 non-null uint8\n",
      "dtypes: uint8(3)\n",
      "memory usage: 2.7 KB\n"
     ]
    }
   ],
   "source": [
    "pd.get_dummies(data_train[\"Pclass\"]).info()"
   ]
  },
  {
   "cell_type": "code",
   "execution_count": 18,
   "metadata": {
    "scrolled": true
   },
   "outputs": [
    {
     "name": "stdout",
     "output_type": "stream",
     "text": [
      "<class 'pandas.core.frame.DataFrame'>\n",
      "RangeIndex: 891 entries, 0 to 890\n",
      "Data columns (total 17 columns):\n",
      "Capt            891 non-null uint8\n",
      "Col             891 non-null uint8\n",
      "Don             891 non-null uint8\n",
      "Dr              891 non-null uint8\n",
      "Jonkheer        891 non-null uint8\n",
      "Lady            891 non-null uint8\n",
      "Major           891 non-null uint8\n",
      "Master          891 non-null uint8\n",
      "Miss            891 non-null uint8\n",
      "Mlle            891 non-null uint8\n",
      "Mme             891 non-null uint8\n",
      "Mr              891 non-null uint8\n",
      "Mrs             891 non-null uint8\n",
      "Ms              891 non-null uint8\n",
      "Rev             891 non-null uint8\n",
      "Sir             891 non-null uint8\n",
      "the Countess    891 non-null uint8\n",
      "dtypes: uint8(17)\n",
      "memory usage: 14.9 KB\n"
     ]
    }
   ],
   "source": [
    "pd.get_dummies(map(lambda x: x.split(',')[1].split('.')[0].strip(), data_train[\"Name\"])).info()"
   ]
  },
  {
   "cell_type": "code",
   "execution_count": 21,
   "metadata": {},
   "outputs": [
    {
     "name": "stdout",
     "output_type": "stream",
     "text": [
      "<class 'pandas.core.frame.DataFrame'>\n",
      "RangeIndex: 891 entries, 0 to 890\n",
      "Data columns (total 3 columns):\n",
      "C    891 non-null uint8\n",
      "Q    891 non-null uint8\n",
      "S    891 non-null uint8\n",
      "dtypes: uint8(3)\n",
      "memory usage: 2.7 KB\n"
     ]
    }
   ],
   "source": [
    "pd.get_dummies(data_train[\"Embarked\"]).info()"
   ]
  },
  {
   "cell_type": "code",
   "execution_count": null,
   "metadata": {},
   "outputs": [],
   "source": [
    "data_train[\"Age\"] = data_train[\"Age\"].fillna(data_train[\"Age\"].mean())\n",
    "data_train[\"Name\"] = pd.factorize(map(lambda x: x.split(' ')[1], data_train[\"Name\"]))[0]\n",
    "data_train[\"Sex\"] = pd.factorize(data_train[\"Sex\"])[0]\n",
    "data_train[\"Cabin\"] = map(lambda x: x+1, pd.factorize(data_train[\"Cabin\"])[0])\n",
    "data_train[\"Embarked\"] = pd.factorize(data_train[\"Embarked\"])[0]\n",
    "\n",
    "data_train_drop = data_train.drop([\"PassengerId\" ,\"Survived\", \"Ticket\", \"Parch\", \"Cabin\", \"Embarked\"], axis=1)\n",
    "\n",
    "ftr = data_train_drop.values"
   ]
  },
  {
   "cell_type": "code",
   "execution_count": null,
   "metadata": {},
   "outputs": [],
   "source": [
    "def normFeature(x):\n",
    "    x /= np.linalg.norm(x)\n",
    "    x = x.tolist()\n",
    "    return x\n",
    "ftr = map(lambda x: normFeature(x), ftr)\n",
    "ftr = np.array(ftr)"
   ]
  },
  {
   "cell_type": "code",
   "execution_count": null,
   "metadata": {
    "scrolled": false
   },
   "outputs": [],
   "source": [
    "pca = PCA(n_components=2)\n",
    "ftr_for_plot = pca.fit_transform(ftr)\n",
    "\n",
    "plt.figure(0)\n",
    "for i in range(len(ftr)):\n",
    "    if cls[i] == 0:\n",
    "        line = plt.plot(ftr_for_plot[i][1], ftr_for_plot[i][0], \"ro\")\n",
    "        plt.setp(line, color=\"r\", linewidth=2.0)\n",
    "\n",
    "plt.figure(1)\n",
    "for i in range(len(ftr)):\n",
    "    if cls[i] == 1:\n",
    "        line = plt.plot(ftr_for_plot[i][1], ftr_for_plot[i][0], \"ro\")\n",
    "        plt.setp(line, color=\"b\", linewidth=2.0)"
   ]
  },
  {
   "cell_type": "code",
   "execution_count": null,
   "metadata": {
    "scrolled": false
   },
   "outputs": [],
   "source": [
    "# x_train, x_test, y_train, y_test = train_test_split(ftr, cls, test_size=0.3)\n",
    "from sklearn.neighbors import KNeighborsClassifier\n",
    "accuracy = []\n",
    "kfold = KFold(n_splits=10)\n",
    "for train_index, test_index in kfold.split(ftr):\n",
    "    x_train, x_test = ftr[train_index], ftr[test_index]\n",
    "    y_train, y_test = cls[train_index], cls[test_index]\n",
    "\n",
    "    clf = RandomForestClassifier(n_estimators=100, oob_score=True).fit(x_train, y_train)\n",
    "#     clf = KNeighborsClassifier(n_neighbors=7).fit(x_train, y_train)\n",
    "    acc = clf.score(x_test, y_test)\n",
    "    print acc\n",
    "    accuracy.append(acc)"
   ]
  },
  {
   "cell_type": "code",
   "execution_count": null,
   "metadata": {},
   "outputs": [],
   "source": [
    "print \"Average accuracy: \" + str(np.mean(accuracy))"
   ]
  },
  {
   "cell_type": "code",
   "execution_count": null,
   "metadata": {},
   "outputs": [],
   "source": [
    "data_train_drop.head()"
   ]
  },
  {
   "cell_type": "code",
   "execution_count": null,
   "metadata": {},
   "outputs": [],
   "source": [
    "print clf.feature_importances_"
   ]
  }
 ],
 "metadata": {
  "kernelspec": {
   "display_name": "Python 2",
   "language": "python",
   "name": "python2"
  },
  "language_info": {
   "codemirror_mode": {
    "name": "ipython",
    "version": 2
   },
   "file_extension": ".py",
   "mimetype": "text/x-python",
   "name": "python",
   "nbconvert_exporter": "python",
   "pygments_lexer": "ipython2",
   "version": "2.7.12"
  }
 },
 "nbformat": 4,
 "nbformat_minor": 2
}
