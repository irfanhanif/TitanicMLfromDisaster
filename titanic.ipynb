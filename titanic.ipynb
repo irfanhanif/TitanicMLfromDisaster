{
 "cells": [
  {
   "cell_type": "markdown",
   "metadata": {},
   "source": [
    "# Titanic : Machine Learning from Disaster\n",
    "Implementation using **Support Vector Machine** classifier"
   ]
  },
  {
   "cell_type": "code",
   "execution_count": 1,
   "metadata": {},
   "outputs": [],
   "source": [
    "import pandas as pd\n",
    "import numpy as np\n",
    "import matplotlib.pyplot as plt\n",
    "\n",
    "from sklearn.model_selection import train_test_split, KFold\n",
    "from sklearn.ensemble import RandomForestClassifier\n",
    "from sklearn.decomposition import PCA"
   ]
  },
  {
   "cell_type": "markdown",
   "metadata": {},
   "source": [
    "### Get Data\n",
    "1. Get the data **train.csv** from file\n",
    "2. Seperate target variable into *cls*"
   ]
  },
  {
   "cell_type": "code",
   "execution_count": 2,
   "metadata": {
    "scrolled": false
   },
   "outputs": [],
   "source": [
    "data_path = \"data/\"\n",
    "data_train = pd.read_csv(data_path + \"train.csv\", delimiter=',')\n",
    "\n",
    "cls = data_train[\"Survived\"].values"
   ]
  },
  {
   "cell_type": "code",
   "execution_count": 3,
   "metadata": {
    "scrolled": false
   },
   "outputs": [
    {
     "data": {
      "text/html": [
       "<div>\n",
       "<style scoped>\n",
       "    .dataframe tbody tr th:only-of-type {\n",
       "        vertical-align: middle;\n",
       "    }\n",
       "\n",
       "    .dataframe tbody tr th {\n",
       "        vertical-align: top;\n",
       "    }\n",
       "\n",
       "    .dataframe thead th {\n",
       "        text-align: right;\n",
       "    }\n",
       "</style>\n",
       "<table border=\"1\" class=\"dataframe\">\n",
       "  <thead>\n",
       "    <tr style=\"text-align: right;\">\n",
       "      <th></th>\n",
       "      <th>PassengerId</th>\n",
       "      <th>Survived</th>\n",
       "      <th>Pclass</th>\n",
       "      <th>Name</th>\n",
       "      <th>Sex</th>\n",
       "      <th>Age</th>\n",
       "      <th>SibSp</th>\n",
       "      <th>Parch</th>\n",
       "      <th>Ticket</th>\n",
       "      <th>Fare</th>\n",
       "      <th>Cabin</th>\n",
       "      <th>Embarked</th>\n",
       "    </tr>\n",
       "  </thead>\n",
       "  <tbody>\n",
       "    <tr>\n",
       "      <th>0</th>\n",
       "      <td>1</td>\n",
       "      <td>0</td>\n",
       "      <td>3</td>\n",
       "      <td>Braund, Mr. Owen Harris</td>\n",
       "      <td>male</td>\n",
       "      <td>22.0</td>\n",
       "      <td>1</td>\n",
       "      <td>0</td>\n",
       "      <td>A/5 21171</td>\n",
       "      <td>7.2500</td>\n",
       "      <td>NaN</td>\n",
       "      <td>S</td>\n",
       "    </tr>\n",
       "    <tr>\n",
       "      <th>1</th>\n",
       "      <td>2</td>\n",
       "      <td>1</td>\n",
       "      <td>1</td>\n",
       "      <td>Cumings, Mrs. John Bradley (Florence Briggs Th...</td>\n",
       "      <td>female</td>\n",
       "      <td>38.0</td>\n",
       "      <td>1</td>\n",
       "      <td>0</td>\n",
       "      <td>PC 17599</td>\n",
       "      <td>71.2833</td>\n",
       "      <td>C85</td>\n",
       "      <td>C</td>\n",
       "    </tr>\n",
       "    <tr>\n",
       "      <th>2</th>\n",
       "      <td>3</td>\n",
       "      <td>1</td>\n",
       "      <td>3</td>\n",
       "      <td>Heikkinen, Miss. Laina</td>\n",
       "      <td>female</td>\n",
       "      <td>26.0</td>\n",
       "      <td>0</td>\n",
       "      <td>0</td>\n",
       "      <td>STON/O2. 3101282</td>\n",
       "      <td>7.9250</td>\n",
       "      <td>NaN</td>\n",
       "      <td>S</td>\n",
       "    </tr>\n",
       "    <tr>\n",
       "      <th>3</th>\n",
       "      <td>4</td>\n",
       "      <td>1</td>\n",
       "      <td>1</td>\n",
       "      <td>Futrelle, Mrs. Jacques Heath (Lily May Peel)</td>\n",
       "      <td>female</td>\n",
       "      <td>35.0</td>\n",
       "      <td>1</td>\n",
       "      <td>0</td>\n",
       "      <td>113803</td>\n",
       "      <td>53.1000</td>\n",
       "      <td>C123</td>\n",
       "      <td>S</td>\n",
       "    </tr>\n",
       "    <tr>\n",
       "      <th>4</th>\n",
       "      <td>5</td>\n",
       "      <td>0</td>\n",
       "      <td>3</td>\n",
       "      <td>Allen, Mr. William Henry</td>\n",
       "      <td>male</td>\n",
       "      <td>35.0</td>\n",
       "      <td>0</td>\n",
       "      <td>0</td>\n",
       "      <td>373450</td>\n",
       "      <td>8.0500</td>\n",
       "      <td>NaN</td>\n",
       "      <td>S</td>\n",
       "    </tr>\n",
       "  </tbody>\n",
       "</table>\n",
       "</div>"
      ],
      "text/plain": [
       "   PassengerId  Survived  Pclass  \\\n",
       "0            1         0       3   \n",
       "1            2         1       1   \n",
       "2            3         1       3   \n",
       "3            4         1       1   \n",
       "4            5         0       3   \n",
       "\n",
       "                                                Name     Sex   Age  SibSp  \\\n",
       "0                            Braund, Mr. Owen Harris    male  22.0      1   \n",
       "1  Cumings, Mrs. John Bradley (Florence Briggs Th...  female  38.0      1   \n",
       "2                             Heikkinen, Miss. Laina  female  26.0      0   \n",
       "3       Futrelle, Mrs. Jacques Heath (Lily May Peel)  female  35.0      1   \n",
       "4                           Allen, Mr. William Henry    male  35.0      0   \n",
       "\n",
       "   Parch            Ticket     Fare Cabin Embarked  \n",
       "0      0         A/5 21171   7.2500   NaN        S  \n",
       "1      0          PC 17599  71.2833   C85        C  \n",
       "2      0  STON/O2. 3101282   7.9250   NaN        S  \n",
       "3      0            113803  53.1000  C123        S  \n",
       "4      0            373450   8.0500   NaN        S  "
      ]
     },
     "execution_count": 3,
     "metadata": {},
     "output_type": "execute_result"
    }
   ],
   "source": [
    "train_df = data_train\n",
    "train_df.head()"
   ]
  },
  {
   "cell_type": "markdown",
   "metadata": {},
   "source": [
    "### One Hot Vectors\n",
    "Convert categorical variable like *Pclass*, *Name*, *Sex*, *Embarked* into one hot vector"
   ]
  },
  {
   "cell_type": "code",
   "execution_count": 4,
   "metadata": {},
   "outputs": [
    {
     "name": "stdout",
     "output_type": "stream",
     "text": [
      "<class 'pandas.core.frame.DataFrame'>\n",
      "RangeIndex: 891 entries, 0 to 890\n",
      "Data columns (total 15 columns):\n",
      "PassengerId    891 non-null int64\n",
      "Survived       891 non-null int64\n",
      "Pclass         891 non-null int64\n",
      "Name           891 non-null object\n",
      "Sex            891 non-null object\n",
      "Age            714 non-null float64\n",
      "SibSp          891 non-null int64\n",
      "Parch          891 non-null int64\n",
      "Ticket         891 non-null object\n",
      "Fare           891 non-null float64\n",
      "Cabin          204 non-null object\n",
      "Embarked       889 non-null object\n",
      "Pclass1        891 non-null uint8\n",
      "Pclass2        891 non-null uint8\n",
      "Pclass3        891 non-null uint8\n",
      "dtypes: float64(2), int64(5), object(5), uint8(3)\n",
      "memory usage: 86.2+ KB\n"
     ]
    }
   ],
   "source": [
    "one_hot_Pclass = pd.get_dummies(train_df[\"Pclass\"])\n",
    "for i in one_hot_Pclass.columns.values:\n",
    "    train_df[\"Pclass\"+str(i)] = one_hot_Pclass[i].values\n",
    "train_df.info()"
   ]
  },
  {
   "cell_type": "code",
   "execution_count": 5,
   "metadata": {},
   "outputs": [
    {
     "name": "stdout",
     "output_type": "stream",
     "text": [
      "<class 'pandas.core.frame.DataFrame'>\n",
      "RangeIndex: 891 entries, 0 to 890\n",
      "Data columns (total 32 columns):\n",
      "PassengerId                891 non-null int64\n",
      "Survived                   891 non-null int64\n",
      "Pclass                     891 non-null int64\n",
      "Name                       891 non-null object\n",
      "Sex                        891 non-null object\n",
      "Age                        714 non-null float64\n",
      "SibSp                      891 non-null int64\n",
      "Parch                      891 non-null int64\n",
      "Ticket                     891 non-null object\n",
      "Fare                       891 non-null float64\n",
      "Cabin                      204 non-null object\n",
      "Embarked                   889 non-null object\n",
      "Pclass1                    891 non-null uint8\n",
      "Pclass2                    891 non-null uint8\n",
      "Pclass3                    891 non-null uint8\n",
      "honorifics_Capt            891 non-null uint8\n",
      "honorifics_Col             891 non-null uint8\n",
      "honorifics_Don             891 non-null uint8\n",
      "honorifics_Dr              891 non-null uint8\n",
      "honorifics_Jonkheer        891 non-null uint8\n",
      "honorifics_Lady            891 non-null uint8\n",
      "honorifics_Major           891 non-null uint8\n",
      "honorifics_Master          891 non-null uint8\n",
      "honorifics_Miss            891 non-null uint8\n",
      "honorifics_Mlle            891 non-null uint8\n",
      "honorifics_Mme             891 non-null uint8\n",
      "honorifics_Mr              891 non-null uint8\n",
      "honorifics_Mrs             891 non-null uint8\n",
      "honorifics_Ms              891 non-null uint8\n",
      "honorifics_Rev             891 non-null uint8\n",
      "honorifics_Sir             891 non-null uint8\n",
      "honorifics_the Countess    891 non-null uint8\n",
      "dtypes: float64(2), int64(5), object(5), uint8(20)\n",
      "memory usage: 101.0+ KB\n"
     ]
    }
   ],
   "source": [
    "one_hot_name = pd.get_dummies(map(lambda x: x.split(',')[1].split('.')[0].strip(), train_df[\"Name\"]))\n",
    "for i in one_hot_name:\n",
    "    train_df[\"honorifics_\"+i] = one_hot_name[i].values\n",
    "train_df.info()"
   ]
  },
  {
   "cell_type": "code",
   "execution_count": 6,
   "metadata": {},
   "outputs": [
    {
     "name": "stdout",
     "output_type": "stream",
     "text": [
      "<class 'pandas.core.frame.DataFrame'>\n",
      "RangeIndex: 891 entries, 0 to 890\n",
      "Data columns (total 34 columns):\n",
      "PassengerId                891 non-null int64\n",
      "Survived                   891 non-null int64\n",
      "Pclass                     891 non-null int64\n",
      "Name                       891 non-null object\n",
      "Sex                        891 non-null object\n",
      "Age                        714 non-null float64\n",
      "SibSp                      891 non-null int64\n",
      "Parch                      891 non-null int64\n",
      "Ticket                     891 non-null object\n",
      "Fare                       891 non-null float64\n",
      "Cabin                      204 non-null object\n",
      "Embarked                   889 non-null object\n",
      "Pclass1                    891 non-null uint8\n",
      "Pclass2                    891 non-null uint8\n",
      "Pclass3                    891 non-null uint8\n",
      "honorifics_Capt            891 non-null uint8\n",
      "honorifics_Col             891 non-null uint8\n",
      "honorifics_Don             891 non-null uint8\n",
      "honorifics_Dr              891 non-null uint8\n",
      "honorifics_Jonkheer        891 non-null uint8\n",
      "honorifics_Lady            891 non-null uint8\n",
      "honorifics_Major           891 non-null uint8\n",
      "honorifics_Master          891 non-null uint8\n",
      "honorifics_Miss            891 non-null uint8\n",
      "honorifics_Mlle            891 non-null uint8\n",
      "honorifics_Mme             891 non-null uint8\n",
      "honorifics_Mr              891 non-null uint8\n",
      "honorifics_Mrs             891 non-null uint8\n",
      "honorifics_Ms              891 non-null uint8\n",
      "honorifics_Rev             891 non-null uint8\n",
      "honorifics_Sir             891 non-null uint8\n",
      "honorifics_the Countess    891 non-null uint8\n",
      "Sex_female                 891 non-null uint8\n",
      "Sex_male                   891 non-null uint8\n",
      "dtypes: float64(2), int64(5), object(5), uint8(22)\n",
      "memory usage: 102.7+ KB\n"
     ]
    }
   ],
   "source": [
    "one_hot_sex = pd.get_dummies(train_df[\"Sex\"])\n",
    "for i in one_hot_sex:\n",
    "    train_df[\"Sex_\"+i] = one_hot_sex[i].values\n",
    "train_df.info()"
   ]
  },
  {
   "cell_type": "code",
   "execution_count": 7,
   "metadata": {
    "scrolled": true
   },
   "outputs": [
    {
     "name": "stdout",
     "output_type": "stream",
     "text": [
      "<class 'pandas.core.frame.DataFrame'>\n",
      "RangeIndex: 891 entries, 0 to 890\n",
      "Data columns (total 37 columns):\n",
      "PassengerId                891 non-null int64\n",
      "Survived                   891 non-null int64\n",
      "Pclass                     891 non-null int64\n",
      "Name                       891 non-null object\n",
      "Sex                        891 non-null object\n",
      "Age                        714 non-null float64\n",
      "SibSp                      891 non-null int64\n",
      "Parch                      891 non-null int64\n",
      "Ticket                     891 non-null object\n",
      "Fare                       891 non-null float64\n",
      "Cabin                      204 non-null object\n",
      "Embarked                   889 non-null object\n",
      "Pclass1                    891 non-null uint8\n",
      "Pclass2                    891 non-null uint8\n",
      "Pclass3                    891 non-null uint8\n",
      "honorifics_Capt            891 non-null uint8\n",
      "honorifics_Col             891 non-null uint8\n",
      "honorifics_Don             891 non-null uint8\n",
      "honorifics_Dr              891 non-null uint8\n",
      "honorifics_Jonkheer        891 non-null uint8\n",
      "honorifics_Lady            891 non-null uint8\n",
      "honorifics_Major           891 non-null uint8\n",
      "honorifics_Master          891 non-null uint8\n",
      "honorifics_Miss            891 non-null uint8\n",
      "honorifics_Mlle            891 non-null uint8\n",
      "honorifics_Mme             891 non-null uint8\n",
      "honorifics_Mr              891 non-null uint8\n",
      "honorifics_Mrs             891 non-null uint8\n",
      "honorifics_Ms              891 non-null uint8\n",
      "honorifics_Rev             891 non-null uint8\n",
      "honorifics_Sir             891 non-null uint8\n",
      "honorifics_the Countess    891 non-null uint8\n",
      "Sex_female                 891 non-null uint8\n",
      "Sex_male                   891 non-null uint8\n",
      "Embarked_C                 891 non-null uint8\n",
      "Embarked_Q                 891 non-null uint8\n",
      "Embarked_S                 891 non-null uint8\n",
      "dtypes: float64(2), int64(5), object(5), uint8(25)\n",
      "memory usage: 105.4+ KB\n"
     ]
    }
   ],
   "source": [
    "one_hot_embarked = pd.get_dummies(train_df[\"Embarked\"])\n",
    "for i in one_hot_embarked:\n",
    "    train_df[\"Embarked_\"+i] = one_hot_embarked[i].values\n",
    "train_df.info()"
   ]
  },
  {
   "cell_type": "markdown",
   "metadata": {},
   "source": [
    "### Clean data\n",
    "Drop variables that irrelevant for the classifier"
   ]
  },
  {
   "cell_type": "code",
   "execution_count": 8,
   "metadata": {},
   "outputs": [
    {
     "name": "stdout",
     "output_type": "stream",
     "text": [
      "<class 'pandas.core.frame.DataFrame'>\n",
      "RangeIndex: 891 entries, 0 to 890\n",
      "Data columns (total 29 columns):\n",
      "Age                        891 non-null float64\n",
      "SibSp                      891 non-null int64\n",
      "Parch                      891 non-null int64\n",
      "Fare                       891 non-null float64\n",
      "Pclass1                    891 non-null uint8\n",
      "Pclass2                    891 non-null uint8\n",
      "Pclass3                    891 non-null uint8\n",
      "honorifics_Capt            891 non-null uint8\n",
      "honorifics_Col             891 non-null uint8\n",
      "honorifics_Don             891 non-null uint8\n",
      "honorifics_Dr              891 non-null uint8\n",
      "honorifics_Jonkheer        891 non-null uint8\n",
      "honorifics_Lady            891 non-null uint8\n",
      "honorifics_Major           891 non-null uint8\n",
      "honorifics_Master          891 non-null uint8\n",
      "honorifics_Miss            891 non-null uint8\n",
      "honorifics_Mlle            891 non-null uint8\n",
      "honorifics_Mme             891 non-null uint8\n",
      "honorifics_Mr              891 non-null uint8\n",
      "honorifics_Mrs             891 non-null uint8\n",
      "honorifics_Ms              891 non-null uint8\n",
      "honorifics_Rev             891 non-null uint8\n",
      "honorifics_Sir             891 non-null uint8\n",
      "honorifics_the Countess    891 non-null uint8\n",
      "Sex_female                 891 non-null uint8\n",
      "Sex_male                   891 non-null uint8\n",
      "Embarked_C                 891 non-null uint8\n",
      "Embarked_Q                 891 non-null uint8\n",
      "Embarked_S                 891 non-null uint8\n",
      "dtypes: float64(2), int64(2), uint8(25)\n",
      "memory usage: 49.7 KB\n"
     ]
    }
   ],
   "source": [
    "train_df[\"Age\"] = train_df[\"Age\"].fillna(data_train[\"Age\"].mean())\n",
    "\n",
    "train_df_drop = data_train.drop([\"PassengerId\" ,\"Survived\", \"Pclass\", \"Name\", \"Sex\", \"Ticket\", \"Cabin\", \"Embarked\"], axis=1)\n",
    "train_df_drop.info()"
   ]
  },
  {
   "cell_type": "code",
   "execution_count": 9,
   "metadata": {
    "scrolled": true
   },
   "outputs": [
    {
     "data": {
      "text/plain": [
       "array([[22.        ,  1.        ,  0.        , ...,  0.        ,\n",
       "         0.        ,  1.        ],\n",
       "       [38.        ,  1.        ,  0.        , ...,  1.        ,\n",
       "         0.        ,  0.        ],\n",
       "       [26.        ,  0.        ,  0.        , ...,  0.        ,\n",
       "         0.        ,  1.        ],\n",
       "       ...,\n",
       "       [29.69911765,  1.        ,  2.        , ...,  0.        ,\n",
       "         0.        ,  1.        ],\n",
       "       [26.        ,  0.        ,  0.        , ...,  1.        ,\n",
       "         0.        ,  0.        ],\n",
       "       [32.        ,  0.        ,  0.        , ...,  0.        ,\n",
       "         1.        ,  0.        ]])"
      ]
     },
     "execution_count": 9,
     "metadata": {},
     "output_type": "execute_result"
    }
   ],
   "source": [
    "ftr = train_df_drop.values\n",
    "ftr"
   ]
  },
  {
   "cell_type": "markdown",
   "metadata": {},
   "source": [
    "### Plotting the Data\n",
    "1. Do **Principal Component Analysis** into 2 dimensional array to figure data's map\n",
    "2. Plot each data. Different colors shows different class. the *blue* plots as survived and the *red* plots vice verca"
   ]
  },
  {
   "cell_type": "code",
   "execution_count": 10,
   "metadata": {
    "scrolled": true
   },
   "outputs": [
    {
     "data": {
      "image/png": "[encoded data removed]",
      "text/plain": [
       "<matplotlib.figure.Figure at 0x7f8c7165c0d0>"
      ]
     },
     "metadata": {},
     "output_type": "display_data"
    },
    {
     "data": {
      "image/png": "[encoded data removed]",
      "text/plain": [
       "<matplotlib.figure.Figure at 0x7f8c71636cd0>"
      ]
     },
     "metadata": {},
     "output_type": "display_data"
    }
   ],
   "source": [
    "pca = PCA(n_components=2)\n",
    "ftr_for_plot = pca.fit_transform(ftr)\n",
    "\n",
    "plt.figure(0)\n",
    "for i in range(len(ftr)):\n",
    "    if cls[i] == 0:\n",
    "        line = plt.plot(ftr_for_plot[i][1], ftr_for_plot[i][0], \"ro\")\n",
    "        plt.setp(line, color=\"r\", linewidth=2.0)\n",
    "\n",
    "plt.figure(1)\n",
    "for i in range(len(ftr)):\n",
    "    if cls[i] == 1:\n",
    "        line = plt.plot(ftr_for_plot[i][1], ftr_for_plot[i][0], \"ro\")\n",
    "        plt.setp(line, color=\"b\", linewidth=2.0)"
   ]
  },
  {
   "cell_type": "markdown",
   "metadata": {},
   "source": [
    "### Classify and Evaluate\n",
    "1. I used Scikit-Learn library to classify the data\n",
    "2. Liner SVC is chosen because gave highest result\n",
    "3. I used K-Fold Cross Validation with *k=10* as evaluation method"
   ]
  },
  {
   "cell_type": "code",
   "execution_count": 16,
   "metadata": {
    "scrolled": true
   },
   "outputs": [
    {
     "name": "stdout",
     "output_type": "stream",
     "text": [
      "Fold-1 Accuracy: 0.8111111111111111\n",
      "Fold-2 Accuracy: 0.8539325842696629\n",
      "Fold-3 Accuracy: 0.7865168539325843\n",
      "Fold-4 Accuracy: 0.8764044943820225\n",
      "Fold-5 Accuracy: 0.8089887640449438\n",
      "Fold-6 Accuracy: 0.8202247191011236\n",
      "Fold-7 Accuracy: 0.7528089887640449\n",
      "Fold-8 Accuracy: 0.7752808988764045\n",
      "Fold-9 Accuracy: 0.898876404494382\n",
      "Fold-10 Accuracy: 0.8426966292134831\n",
      "\n",
      "Average Accuracy: 0.8226841448189763\n",
      "Average Precision: 0.8106598914640137\n",
      "Average Recall: 0.8073036067164976\n",
      "Average F-Measure: 0.8106598914640137\n"
     ]
    }
   ],
   "source": [
    "from sklearn.svm import SVC\n",
    "from sklearn.metrics import precision_recall_fscore_support\n",
    "accuracy = []\n",
    "other_metrics = []\n",
    "kfold = KFold(n_splits=10)\n",
    "n_fold = 0\n",
    "for train_index, test_index in kfold.split(ftr):\n",
    "    x_train, x_test = ftr[train_index], ftr[test_index]\n",
    "    y_train, y_test = cls[train_index], cls[test_index]\n",
    "\n",
    "#     clf = RandomForestClassifier(n_estimators=1000, oob_score=True).fit(x_train, y_train)\n",
    "    clf = SVC(kernel=\"linear\").fit(x_train, y_train)\n",
    "    \n",
    "    acc = clf.score(x_test, y_test)\n",
    "    oth = precision_recall_fscore_support(y_test, clf.predict(x_test), average=\"macro\")\n",
    "    \n",
    "    n_fold += 1\n",
    "    print \"Fold-\" + str(n_fold) + \" Accuracy: \" + str(acc)\n",
    "    \n",
    "    accuracy.append(acc)\n",
    "    other_metrics.append(oth)\n",
    "\n",
    "print    \n",
    "print \"Average Accuracy: \" + str(np.mean(accuracy))\n",
    "print \"Average Precision: \" + str(np.mean([i[0] for i in other_metrics]))\n",
    "print \"Average Recall: \" + str(np.mean([i[1] for i in other_metrics]))\n",
    "print \"Average F-Measure: \" + str(np.mean([i[0] for i in other_metrics]))"
   ]
  }
 ],
 "metadata": {
  "kernelspec": {
   "display_name": "Python 2",
   "language": "python",
   "name": "python2"
  },
  "language_info": {
   "codemirror_mode": {
    "name": "ipython",
    "version": 2
   },
   "file_extension": ".py",
   "mimetype": "text/x-python",
   "name": "python",
   "nbconvert_exporter": "python",
   "pygments_lexer": "ipython2",
   "version": "2.7.12"
  }
 },
 "nbformat": 4,
 "nbformat_minor": 2
}
